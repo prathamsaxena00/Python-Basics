{
 "cells": [
  {
   "cell_type": "markdown",
   "id": "f942bc06-168d-45ef-b339-7eb34a6351f7",
   "metadata": {},
   "source": [
    "# Basics"
   ]
  },
  {
   "cell_type": "markdown",
   "id": "e28352b1-343e-4439-aebc-c4196e3f8261",
   "metadata": {},
   "source": [
    "Printing a statement"
   ]
  },
  {
   "cell_type": "code",
   "execution_count": 1,
   "id": "abf8b155-84b2-4af7-9676-2195e5e97bcf",
   "metadata": {},
   "outputs": [
    {
     "name": "stdout",
     "output_type": "stream",
     "text": [
      "hello world\n"
     ]
    }
   ],
   "source": [
    "print(\"hello world\")"
   ]
  },
  {
   "cell_type": "markdown",
   "id": "d9d1bcce-6785-4110-9adc-fd5eff7d73d0",
   "metadata": {},
   "source": [
    "Variables are containers to store data"
   ]
  },
  {
   "cell_type": "code",
   "execution_count": 4,
   "id": "94ecfa80-decc-4e55-bc37-d171d4e69cee",
   "metadata": {},
   "outputs": [
    {
     "name": "stdout",
     "output_type": "stream",
     "text": [
      "Pratham Saxena\n",
      "21\n"
     ]
    }
   ],
   "source": [
    "name=\"Pratham Saxena\" #this is string\n",
    "age=21 #this is integer\n",
    "print(name ) \n",
    "print(age)"
   ]
  },
  {
   "cell_type": "code",
   "execution_count": 5,
   "id": "0adfc621-22f8-4b11-86bc-e71f6bf1b513",
   "metadata": {},
   "outputs": [
    {
     "name": "stdout",
     "output_type": "stream",
     "text": [
      "Bhanu\n"
     ]
    }
   ],
   "source": [
    "name=\"Bhanu\"\n",
    "print(name) #now name has different value"
   ]
  },
  {
   "cell_type": "code",
   "execution_count": 7,
   "id": "a1adee97-8fc1-4e40-81f2-f29aa46a8871",
   "metadata": {},
   "outputs": [],
   "source": [
    "age=20.0 #this is float\n",
    "is_adult=False #this is bool"
   ]
  },
  {
   "cell_type": "markdown",
   "id": "43866e0e-238c-48f7-b103-68a599517fa9",
   "metadata": {},
   "source": [
    "Taking inputs from user"
   ]
  },
  {
   "cell_type": "code",
   "execution_count": 12,
   "id": "161e8420-30c5-4115-b58c-42c1581c9902",
   "metadata": {},
   "outputs": [
    {
     "name": "stdin",
     "output_type": "stream",
     "text": [
      "what is your name ? pratham\n",
      "what is your last name? saxena\n"
     ]
    },
    {
     "name": "stdout",
     "output_type": "stream",
     "text": [
      "pratham saxena\n"
     ]
    }
   ],
   "source": [
    "name=input(\"what is your name ?\")\n",
    "lname=input(\"what is your last name?\")\n",
    "print(name + \" \"+ lname) # this is called concatination"
   ]
  },
  {
   "cell_type": "markdown",
   "id": "5da9ab80-43d0-4d65-81d2-0f295b0da2a2",
   "metadata": {},
   "source": [
    "Conversions of datatypes"
   ]
  },
  {
   "cell_type": "code",
   "execution_count": 14,
   "id": "e56b90fd-1e60-4cf2-bb06-e10d3f95e77b",
   "metadata": {},
   "outputs": [
    {
     "name": "stdout",
     "output_type": "stream",
     "text": [
      "pratham is 21 years old \n"
     ]
    }
   ],
   "source": [
    "name=\"pratham\"\n",
    "age=21\n",
    "age =str(age) #this will convert int into string for concatination\n",
    "print(name +\" is \" + age +\" years old \")"
   ]
  },
  {
   "cell_type": "code",
   "execution_count": 15,
   "id": "7ba21d62-9c8a-45fa-92ce-3ae984a4e9ea",
   "metadata": {},
   "outputs": [
    {
     "name": "stdout",
     "output_type": "stream",
     "text": [
      "True\n"
     ]
    }
   ],
   "source": [
    "age=18\n",
    "age=str(age)\n",
    "age=float(age)\n",
    "age=bool(age)\n",
    "print(age)"
   ]
  },
  {
   "cell_type": "markdown",
   "id": "21727e0c-699e-4eb6-9654-ec8df4241780",
   "metadata": {},
   "source": [
    "sum of two numbers"
   ]
  },
  {
   "cell_type": "code",
   "execution_count": 21,
   "id": "eec744f9-a434-4894-bb3d-4fc5932a03db",
   "metadata": {},
   "outputs": [
    {
     "name": "stdin",
     "output_type": "stream",
     "text": [
      "enter first number 12\n",
      "enter second number 18\n"
     ]
    },
    {
     "name": "stdout",
     "output_type": "stream",
     "text": [
      "sum is  30\n"
     ]
    }
   ],
   "source": [
    "firstnum=input(\"enter first number\")\n",
    "#input is by default string in python\n",
    "firstnum=int(firstnum)\n",
    "secondnum=input(\"enter second number\")\n",
    "secondnum=int(secondnum)\n",
    "print(\"sum is \" ,firstnum+secondnum)"
   ]
  },
  {
   "cell_type": "markdown",
   "id": "a9426a56-06b3-4844-8be7-34f955fd07c6",
   "metadata": {},
   "source": [
    "# strings"
   ]
  },
  {
   "cell_type": "markdown",
   "id": "90e5608c-59fa-455e-957a-ba46c6b541df",
   "metadata": {},
   "source": [
    "upper and lower"
   ]
  },
  {
   "cell_type": "code",
   "execution_count": 22,
   "id": "621f1e7b-c6d4-4269-8898-25b667458ca7",
   "metadata": {},
   "outputs": [
    {
     "name": "stdout",
     "output_type": "stream",
     "text": [
      "TONY STARK\n"
     ]
    }
   ],
   "source": [
    "name=\"Tony Stark\"\n",
    "print(name.upper())"
   ]
  },
  {
   "cell_type": "code",
   "execution_count": 23,
   "id": "5900ecc9-47f5-4a46-98db-bfa6a4a195b3",
   "metadata": {},
   "outputs": [
    {
     "name": "stdout",
     "output_type": "stream",
     "text": [
      "tony stark\n"
     ]
    }
   ],
   "source": [
    "print(name.lower())"
   ]
  },
  {
   "cell_type": "markdown",
   "id": "4ae81ced-36f5-4a8e-ab15-cfb331ca51d4",
   "metadata": {},
   "source": [
    "note that it doesnot change the original string"
   ]
  },
  {
   "cell_type": "markdown",
   "id": "fe782333-c73e-4b62-a2c6-f2c3f5bb8f98",
   "metadata": {},
   "source": [
    "Find"
   ]
  },
  {
   "cell_type": "code",
   "execution_count": 25,
   "id": "f2fceb3a-2572-4d43-9e0b-933397eac90e",
   "metadata": {},
   "outputs": [
    {
     "name": "stdout",
     "output_type": "stream",
     "text": [
      "1\n"
     ]
    }
   ],
   "source": [
    "print(name.find(\"o\"))\n",
    "#this will return the index of a letter or a word"
   ]
  },
  {
   "cell_type": "code",
   "execution_count": 27,
   "id": "a7706882-fecc-4af7-b4c4-3a340eed5d52",
   "metadata": {},
   "outputs": [
    {
     "name": "stdout",
     "output_type": "stream",
     "text": [
      "-1\n"
     ]
    }
   ],
   "source": [
    "print(name.find(\"z\"))\n",
    "#when it cant find that word it will return -1"
   ]
  },
  {
   "cell_type": "code",
   "execution_count": 28,
   "id": "e0b9b3b8-9096-451f-a35f-cd797d9001b4",
   "metadata": {},
   "outputs": [
    {
     "name": "stdout",
     "output_type": "stream",
     "text": [
      "5\n"
     ]
    }
   ],
   "source": [
    "print(name.find(\"Stark\"))"
   ]
  },
  {
   "cell_type": "markdown",
   "id": "b504808b-a999-4176-8e80-daa2361de87a",
   "metadata": {},
   "source": [
    "Replace"
   ]
  },
  {
   "cell_type": "code",
   "execution_count": 30,
   "id": "8776c635-159f-4483-bae1-f508f819ee8d",
   "metadata": {},
   "outputs": [
    {
     "name": "stdout",
     "output_type": "stream",
     "text": [
      "iron man Stark\n"
     ]
    }
   ],
   "source": [
    "print(name.replace(\"Tony\",\"iron man\"))"
   ]
  },
  {
   "cell_type": "code",
   "execution_count": 2,
   "id": "dc20de71-5982-45de-b971-842355da89a7",
   "metadata": {},
   "outputs": [
    {
     "name": "stdout",
     "output_type": "stream",
     "text": [
      "Chustamji institute of technology\n"
     ]
    }
   ],
   "source": [
    "collegename=\"Rustamji institute of technology\"\n",
    "print(collegename.replace(\"R\",\"Ch\"))"
   ]
  },
  {
   "cell_type": "markdown",
   "id": "d29e70dd-7e9c-4c38-a66b-2c8c85503b54",
   "metadata": {},
   "source": [
    "to check whether letter exists or not we use in keyword returns bool"
   ]
  },
  {
   "cell_type": "code",
   "execution_count": 3,
   "id": "2241986e-a082-4e53-912f-34a90c92128c",
   "metadata": {},
   "outputs": [
    {
     "name": "stdout",
     "output_type": "stream",
     "text": [
      "False\n"
     ]
    }
   ],
   "source": [
    "print(\"z\" in collegename)"
   ]
  },
  {
   "cell_type": "code",
   "execution_count": 5,
   "id": "5d3fc6c4-05c3-4cb1-a474-47411eb1b6d0",
   "metadata": {},
   "outputs": [
    {
     "name": "stdout",
     "output_type": "stream",
     "text": [
      "True\n"
     ]
    }
   ],
   "source": [
    "print(\"R\" in collegename)"
   ]
  },
  {
   "cell_type": "markdown",
   "id": "f2de50e0-9afc-4d76-b5b5-5ce14821fb0d",
   "metadata": {},
   "source": [
    "# Arithmetic Operations"
   ]
  },
  {
   "cell_type": "code",
   "execution_count": 6,
   "id": "b9a260c6-9e32-4606-874c-4c4ec6c81e1d",
   "metadata": {},
   "outputs": [
    {
     "data": {
      "text/plain": [
       "7"
      ]
     },
     "execution_count": 6,
     "metadata": {},
     "output_type": "execute_result"
    }
   ],
   "source": [
    "5 + 2"
   ]
  },
  {
   "cell_type": "code",
   "execution_count": 7,
   "id": "71e2d7cb-86f8-4ac5-a461-6d560d854ac0",
   "metadata": {},
   "outputs": [
    {
     "data": {
      "text/plain": [
       "3"
      ]
     },
     "execution_count": 7,
     "metadata": {},
     "output_type": "execute_result"
    }
   ],
   "source": [
    "5 - 2"
   ]
  },
  {
   "cell_type": "code",
   "execution_count": 8,
   "id": "dad2ea64-4e9f-4e87-b8c7-841cac081fc5",
   "metadata": {},
   "outputs": [
    {
     "data": {
      "text/plain": [
       "10"
      ]
     },
     "execution_count": 8,
     "metadata": {},
     "output_type": "execute_result"
    }
   ],
   "source": [
    "5 * 2"
   ]
  },
  {
   "cell_type": "code",
   "execution_count": 9,
   "id": "d21e6244-cb47-4ab0-8e8b-bb5add81b552",
   "metadata": {},
   "outputs": [
    {
     "data": {
      "text/plain": [
       "2.5"
      ]
     },
     "execution_count": 9,
     "metadata": {},
     "output_type": "execute_result"
    }
   ],
   "source": [
    "5 / 2"
   ]
  },
  {
   "cell_type": "markdown",
   "id": "7c8fd33d-35e7-4614-afff-22dc67985f47",
   "metadata": {},
   "source": [
    "to exclude the decimal part"
   ]
  },
  {
   "cell_type": "code",
   "execution_count": 10,
   "id": "0c64f0aa-699a-4a5e-9c4b-d5fbd2643eae",
   "metadata": {},
   "outputs": [
    {
     "data": {
      "text/plain": [
       "2"
      ]
     },
     "execution_count": 10,
     "metadata": {},
     "output_type": "execute_result"
    }
   ],
   "source": [
    "5 // 2"
   ]
  },
  {
   "cell_type": "markdown",
   "id": "d99cc6c8-6578-4c3a-bf7c-c6fa020c275e",
   "metadata": {},
   "source": [
    "to get the remainder we use modulus"
   ]
  },
  {
   "cell_type": "code",
   "execution_count": 11,
   "id": "4b5a2bf1-aedc-4b6e-bf42-3db5169389fa",
   "metadata": {},
   "outputs": [
    {
     "data": {
      "text/plain": [
       "1"
      ]
     },
     "execution_count": 11,
     "metadata": {},
     "output_type": "execute_result"
    }
   ],
   "source": [
    "5 % 2"
   ]
  },
  {
   "cell_type": "markdown",
   "id": "d643599f-776a-4955-8110-1b047201d2a6",
   "metadata": {},
   "source": [
    "for geting something in exponent "
   ]
  },
  {
   "cell_type": "code",
   "execution_count": 12,
   "id": "85e4a455-9f63-4e22-83d7-76a508db3172",
   "metadata": {},
   "outputs": [
    {
     "data": {
      "text/plain": [
       "25"
      ]
     },
     "execution_count": 12,
     "metadata": {},
     "output_type": "execute_result"
    }
   ],
   "source": [
    "5 ** 2"
   ]
  },
  {
   "cell_type": "code",
   "execution_count": 13,
   "id": "d68850ac-1248-4e11-80be-ffa375998d43",
   "metadata": {},
   "outputs": [
    {
     "name": "stdout",
     "output_type": "stream",
     "text": [
      "7\n"
     ]
    }
   ],
   "source": [
    "i = 5\n",
    "i = i + 2\n",
    "print(i)"
   ]
  },
  {
   "cell_type": "code",
   "execution_count": 14,
   "id": "ce93e78a-ba5a-436f-b3f9-a839c86354f6",
   "metadata": {},
   "outputs": [
    {
     "name": "stdout",
     "output_type": "stream",
     "text": [
      "7\n"
     ]
    }
   ],
   "source": [
    "j = 5\n",
    "j += 2\n",
    "print(j)"
   ]
  },
  {
   "cell_type": "code",
   "execution_count": 15,
   "id": "8b905643-c6c6-44d7-af7a-a2d027f199f8",
   "metadata": {},
   "outputs": [
    {
     "data": {
      "text/plain": [
       "2.6"
      ]
     },
     "execution_count": 15,
     "metadata": {},
     "output_type": "execute_result"
    }
   ],
   "source": [
    "2 + 3/5"
   ]
  },
  {
   "cell_type": "markdown",
   "id": "3387d58a-8d96-4cc8-a832-fb288cb0ff35",
   "metadata": {},
   "source": [
    "as devision has higher presedence like bodmas in pythton"
   ]
  },
  {
   "cell_type": "code",
   "execution_count": 16,
   "id": "0a9dc891-d494-47b0-940a-0d187b43e003",
   "metadata": {},
   "outputs": [
    {
     "data": {
      "text/plain": [
       "17"
      ]
     },
     "execution_count": 16,
     "metadata": {},
     "output_type": "execute_result"
    }
   ],
   "source": [
    "2 + 3*5"
   ]
  },
  {
   "cell_type": "markdown",
   "id": "441700cf-c068-4876-8ac2-5b337de3645e",
   "metadata": {},
   "source": [
    "comment"
   ]
  },
  {
   "cell_type": "code",
   "execution_count": 17,
   "id": "551fa461-cec0-405e-8504-385d2e5bbbe6",
   "metadata": {},
   "outputs": [],
   "source": [
    "#This is a comment"
   ]
  },
  {
   "cell_type": "markdown",
   "id": "93b2559f-bb9c-46a5-90dd-858ef21b93bb",
   "metadata": {},
   "source": [
    "# conditional operator"
   ]
  },
  {
   "cell_type": "code",
   "execution_count": 18,
   "id": "5191f881-6f96-4fcb-afbe-1dfbb7e77155",
   "metadata": {},
   "outputs": [
    {
     "data": {
      "text/plain": [
       "True"
      ]
     },
     "execution_count": 18,
     "metadata": {},
     "output_type": "execute_result"
    }
   ],
   "source": [
    "2>=1"
   ]
  },
  {
   "cell_type": "code",
   "execution_count": 19,
   "id": "4e6e8a8b-efb5-4aeb-86ee-d0bf1e6f1fc2",
   "metadata": {},
   "outputs": [
    {
     "data": {
      "text/plain": [
       "False"
      ]
     },
     "execution_count": 19,
     "metadata": {},
     "output_type": "execute_result"
    }
   ],
   "source": [
    "1>=2"
   ]
  },
  {
   "cell_type": "code",
   "execution_count": 20,
   "id": "7b0a5ac8-1446-4bfa-b9e4-47e13caf09d1",
   "metadata": {},
   "outputs": [
    {
     "data": {
      "text/plain": [
       "True"
      ]
     },
     "execution_count": 20,
     "metadata": {},
     "output_type": "execute_result"
    }
   ],
   "source": [
    "1==1"
   ]
  },
  {
   "cell_type": "code",
   "execution_count": 21,
   "id": "84705e87-8ee7-4c12-8fc9-95963e985c02",
   "metadata": {},
   "outputs": [
    {
     "data": {
      "text/plain": [
       "False"
      ]
     },
     "execution_count": 21,
     "metadata": {},
     "output_type": "execute_result"
    }
   ],
   "source": [
    "1==2"
   ]
  },
  {
   "cell_type": "code",
   "execution_count": 29,
   "id": "23c9819e-a8c4-4290-b225-2652975edf0c",
   "metadata": {},
   "outputs": [
    {
     "data": {
      "text/plain": [
       "True"
      ]
     },
     "execution_count": 29,
     "metadata": {},
     "output_type": "execute_result"
    }
   ],
   "source": [
    "1>2\n",
    "1!=2"
   ]
  },
  {
   "cell_type": "markdown",
   "id": "ef8bb479-7509-4938-aa7a-b5454d030d63",
   "metadata": {},
   "source": [
    "! means not equal to"
   ]
  },
  {
   "cell_type": "markdown",
   "id": "1204dae7-9631-4779-89f1-7109b8e29a97",
   "metadata": {},
   "source": [
    "they always return boolean"
   ]
  },
  {
   "cell_type": "markdown",
   "id": "6d5823f9-3e84-48d7-99b4-afde7bbe7293",
   "metadata": {},
   "source": [
    "# logical operators"
   ]
  },
  {
   "cell_type": "code",
   "execution_count": 23,
   "id": "3817237d-dc51-4711-94dc-d266baa96b8c",
   "metadata": {},
   "outputs": [
    {
     "data": {
      "text/plain": [
       "True"
      ]
     },
     "execution_count": 23,
     "metadata": {},
     "output_type": "execute_result"
    }
   ],
   "source": [
    "2>3 or 3>1"
   ]
  },
  {
   "cell_type": "code",
   "execution_count": 24,
   "id": "95f59253-ff08-4535-8445-b1c48d7fddda",
   "metadata": {},
   "outputs": [
    {
     "data": {
      "text/plain": [
       "False"
      ]
     },
     "execution_count": 24,
     "metadata": {},
     "output_type": "execute_result"
    }
   ],
   "source": [
    "2>3 and 3>1"
   ]
  },
  {
   "cell_type": "code",
   "execution_count": 25,
   "id": "c83171c8-d0b2-49f3-a0ba-def0fbf85c88",
   "metadata": {},
   "outputs": [
    {
     "data": {
      "text/plain": [
       "True"
      ]
     },
     "execution_count": 25,
     "metadata": {},
     "output_type": "execute_result"
    }
   ],
   "source": [
    "2<3 and 3>1"
   ]
  },
  {
   "cell_type": "markdown",
   "id": "7dd2fb09-7ad7-4cec-bf7c-b00cc4885486",
   "metadata": {},
   "source": [
    "or give true when either condition is true while and gives true when both condition are true"
   ]
  },
  {
   "cell_type": "code",
   "execution_count": 27,
   "id": "b021fa14-4ce7-4168-89a7-6ba206801f72",
   "metadata": {},
   "outputs": [
    {
     "data": {
      "text/plain": [
       "True"
      ]
     },
     "execution_count": 27,
     "metadata": {},
     "output_type": "execute_result"
    }
   ],
   "source": [
    "not 2>3"
   ]
  },
  {
   "cell_type": "code",
   "execution_count": 28,
   "id": "0ebd4293-cdcd-4725-9438-b432cf713ad8",
   "metadata": {},
   "outputs": [
    {
     "data": {
      "text/plain": [
       "False"
      ]
     },
     "execution_count": 28,
     "metadata": {},
     "output_type": "execute_result"
    }
   ],
   "source": [
    "not 3>2"
   ]
  },
  {
   "cell_type": "markdown",
   "id": "8a6b3211-2f75-4217-a59d-dceb6ebdbc8b",
   "metadata": {},
   "source": [
    "# If Else Statements"
   ]
  },
  {
   "cell_type": "code",
   "execution_count": 33,
   "id": "170f3699-44cb-4cf1-a1b4-9c2bc805c0c8",
   "metadata": {},
   "outputs": [
    {
     "name": "stdin",
     "output_type": "stream",
     "text": [
      "what is your age 2\n"
     ]
    },
    {
     "name": "stdout",
     "output_type": "stream",
     "text": [
      "chalna toh seekhle nalayak\n"
     ]
    }
   ],
   "source": [
    "age=input(\"what is your age\")\n",
    "age=int(age)\n",
    "if age>=18:\n",
    "    print(\"you can vote hurray!\")\n",
    "elif age<18 and age >3:\n",
    "    print(\"Go to school beta\")\n",
    "else:\n",
    "    print(\"chalna toh seekhle nalayak\")"
   ]
  },
  {
   "cell_type": "markdown",
   "id": "18713f8e-0ee1-472c-8d5c-67710e3d5f11",
   "metadata": {},
   "source": [
    "My calculator"
   ]
  },
  {
   "cell_type": "code",
   "execution_count": 37,
   "id": "8236f549-49af-46e5-8202-1fdd4c388bf8",
   "metadata": {},
   "outputs": [
    {
     "name": "stdin",
     "output_type": "stream",
     "text": [
      "enter first number 12\n",
      "enter second number 2\n",
      "what u want to do (+,-,*,/) -\n"
     ]
    },
    {
     "name": "stdout",
     "output_type": "stream",
     "text": [
      "10\n"
     ]
    }
   ],
   "source": [
    "num1=input(\"enter first number\")\n",
    "num2=input(\"enter second number\")\n",
    "op = input(\"what u want to do (+,-,*,/)\")\n",
    "num1=int(num1)\n",
    "num2=int(num2)\n",
    "if op ==\"+\":\n",
    "    print (num1 +num2)\n",
    "elif op ==\"-\":\n",
    "    print (num1 -num2)  \n",
    "elif op ==\"*\":\n",
    "    print (num1 *num2)  \n",
    "elif op ==\"/\":\n",
    "    print (num1 /num2)      "
   ]
  },
  {
   "cell_type": "markdown",
   "id": "0d736145-aaf6-41ef-8fa1-5b0dac3817a5",
   "metadata": {},
   "source": [
    "# Range"
   ]
  },
  {
   "cell_type": "code",
   "execution_count": 39,
   "id": "4443b05c-17cf-4f0d-8ef2-b5639eba78d7",
   "metadata": {},
   "outputs": [
    {
     "name": "stdout",
     "output_type": "stream",
     "text": [
      "range(0, 5)\n"
     ]
    }
   ],
   "source": [
    "numbers =range(5)\n",
    "print(numbers)"
   ]
  },
  {
   "cell_type": "markdown",
   "id": "d7fd0aeb-3642-486d-8668-1239f2fa89a9",
   "metadata": {},
   "source": [
    "# while loop"
   ]
  },
  {
   "cell_type": "code",
   "execution_count": 40,
   "id": "85bec2cb-f86b-4d89-b58b-a38468bbf485",
   "metadata": {},
   "outputs": [
    {
     "name": "stdout",
     "output_type": "stream",
     "text": [
      "0\n",
      "1\n",
      "2\n",
      "3\n",
      "4\n",
      "5\n",
      "6\n",
      "7\n",
      "8\n",
      "9\n",
      "10\n"
     ]
    }
   ],
   "source": [
    "i =0\n",
    "while i<=10:\n",
    "    print (i)\n",
    "    i +=1"
   ]
  },
  {
   "cell_type": "code",
   "execution_count": 42,
   "id": "dbe242ca-7496-4bfc-b197-fcc058ad4075",
   "metadata": {},
   "outputs": [
    {
     "name": "stdout",
     "output_type": "stream",
     "text": [
      "\n",
      "*\n",
      "**\n",
      "***\n",
      "****\n",
      "*****\n",
      "******\n",
      "*******\n",
      "********\n",
      "*********\n",
      "**********\n"
     ]
    }
   ],
   "source": [
    "i =0\n",
    "while i<=10:\n",
    "    print (i * '*')\n",
    "    i +=1"
   ]
  },
  {
   "cell_type": "code",
   "execution_count": 44,
   "id": "423ed1f8-e9de-4dd4-9d70-19e41d1f10a6",
   "metadata": {},
   "outputs": [
    {
     "name": "stdout",
     "output_type": "stream",
     "text": [
      "**********\n",
      "*********\n",
      "********\n",
      "*******\n",
      "******\n",
      "*****\n",
      "****\n",
      "***\n",
      "**\n",
      "*\n",
      "\n"
     ]
    }
   ],
   "source": [
    "i =10\n",
    "while i>=0:\n",
    "    print (i * '*')\n",
    "    i -=1"
   ]
  },
  {
   "cell_type": "markdown",
   "id": "b409a68d-0cdd-4b3e-a22c-5301b0c00449",
   "metadata": {},
   "source": [
    "# For loop"
   ]
  },
  {
   "cell_type": "code",
   "execution_count": 45,
   "id": "fc2f29b8-e325-45b9-8986-3156975e2310",
   "metadata": {},
   "outputs": [
    {
     "name": "stdout",
     "output_type": "stream",
     "text": [
      "0\n",
      "1\n",
      "2\n",
      "3\n",
      "4\n"
     ]
    }
   ],
   "source": [
    "for i in range(5):\n",
    "    print(i)"
   ]
  },
  {
   "cell_type": "code",
   "execution_count": 46,
   "id": "3109ebfa-b621-4556-afed-b4d91521c5d7",
   "metadata": {},
   "outputs": [
    {
     "name": "stdout",
     "output_type": "stream",
     "text": [
      "1\n",
      "2\n",
      "3\n",
      "4\n",
      "5\n"
     ]
    }
   ],
   "source": [
    "for i in range(5):\n",
    "    print(i+1)"
   ]
  },
  {
   "cell_type": "markdown",
   "id": "28674af9-b184-42fb-800b-ddfe4a5dde25",
   "metadata": {},
   "source": [
    "all bool int float string are premitive data type list is a complex datatype"
   ]
  },
  {
   "cell_type": "markdown",
   "id": "f313bdf1-5c20-4a50-9551-c78a14c32339",
   "metadata": {},
   "source": [
    "# List"
   ]
  },
  {
   "cell_type": "code",
   "execution_count": 47,
   "id": "d8d2ed47-0e94-40e6-8ff0-6ffd4fcad214",
   "metadata": {},
   "outputs": [
    {
     "name": "stdout",
     "output_type": "stream",
     "text": [
      "[90, 95, 80, 67, 'English']\n"
     ]
    }
   ],
   "source": [
    "marks = [90,95,80,67,\"English\"]\n",
    "print(marks)"
   ]
  },
  {
   "cell_type": "code",
   "execution_count": 48,
   "id": "1dedf2c3-e50f-4c67-900c-6a857f093fa0",
   "metadata": {},
   "outputs": [
    {
     "name": "stdout",
     "output_type": "stream",
     "text": [
      "90\n"
     ]
    }
   ],
   "source": [
    "print(marks[0])"
   ]
  },
  {
   "cell_type": "code",
   "execution_count": 49,
   "id": "0d0e5d5a-cdc6-4da7-8471-226155e0bcaa",
   "metadata": {},
   "outputs": [
    {
     "name": "stdout",
     "output_type": "stream",
     "text": [
      "English\n"
     ]
    }
   ],
   "source": [
    "print(marks[-1])"
   ]
  },
  {
   "cell_type": "code",
   "execution_count": 50,
   "id": "a8e54f38-d91b-4413-9aed-87905526021d",
   "metadata": {},
   "outputs": [
    {
     "name": "stdout",
     "output_type": "stream",
     "text": [
      "[90, 95]\n"
     ]
    }
   ],
   "source": [
    "print(marks[0:2])"
   ]
  },
  {
   "cell_type": "code",
   "execution_count": 51,
   "id": "6b1a3f56-6cff-4baa-9789-009544220ffc",
   "metadata": {},
   "outputs": [
    {
     "name": "stdout",
     "output_type": "stream",
     "text": [
      "[95, 80]\n"
     ]
    }
   ],
   "source": [
    "print(marks[1:3])"
   ]
  },
  {
   "cell_type": "code",
   "execution_count": 52,
   "id": "faebd3d8-a02c-4598-bd6a-5decce75464a",
   "metadata": {},
   "outputs": [
    {
     "name": "stdout",
     "output_type": "stream",
     "text": [
      "90\n",
      "95\n",
      "80\n",
      "67\n",
      "English\n"
     ]
    }
   ],
   "source": [
    "for score in marks:\n",
    "    print(score)"
   ]
  },
  {
   "cell_type": "code",
   "execution_count": 53,
   "id": "8e59d03e-3404-4c3e-b17f-8dafe28f2886",
   "metadata": {},
   "outputs": [
    {
     "name": "stdout",
     "output_type": "stream",
     "text": [
      "[90, 95, 80, 67, 'English', 99]\n"
     ]
    }
   ],
   "source": [
    "marks.append(99)\n",
    "print(marks)"
   ]
  },
  {
   "cell_type": "markdown",
   "id": "042601e0-446f-4d7d-8347-a346f58780ef",
   "metadata": {},
   "source": [
    "Lists are mutable and can have different datatypes"
   ]
  },
  {
   "cell_type": "code",
   "execution_count": 54,
   "id": "b7b3d9d5-32a2-47a7-98d2-a61ce34dbfc0",
   "metadata": {},
   "outputs": [
    {
     "name": "stdout",
     "output_type": "stream",
     "text": [
      "[100, 90, 95, 80, 67, 'English', 99]\n"
     ]
    }
   ],
   "source": [
    "marks.insert(0,100)\n",
    "print(marks)"
   ]
  },
  {
   "cell_type": "code",
   "execution_count": 55,
   "id": "a909cfb8-755f-43b8-9afe-ea2ca10e3e7f",
   "metadata": {},
   "outputs": [
    {
     "name": "stdout",
     "output_type": "stream",
     "text": [
      "True\n"
     ]
    }
   ],
   "source": [
    "print(100 in  marks)"
   ]
  },
  {
   "cell_type": "code",
   "execution_count": 56,
   "id": "824d012b-478e-454a-9122-3808ccc2d330",
   "metadata": {},
   "outputs": [
    {
     "name": "stdout",
     "output_type": "stream",
     "text": [
      "7\n"
     ]
    }
   ],
   "source": [
    "print(len(marks))"
   ]
  },
  {
   "cell_type": "code",
   "execution_count": 57,
   "id": "3dd55813-7ea6-4e19-b41d-fead6fb8f3b1",
   "metadata": {},
   "outputs": [
    {
     "name": "stdout",
     "output_type": "stream",
     "text": [
      "100\n",
      "90\n",
      "95\n",
      "80\n",
      "67\n",
      "English\n",
      "99\n"
     ]
    }
   ],
   "source": [
    "i=0\n",
    "while i< len(marks):\n",
    "    print(marks[i])\n",
    "    i=i+1"
   ]
  },
  {
   "cell_type": "markdown",
   "id": "2c72540c-c182-46e5-96d2-583991d2a27b",
   "metadata": {},
   "source": [
    "# continue and break"
   ]
  },
  {
   "cell_type": "code",
   "execution_count": 59,
   "id": "2f4a431b-30b2-4b1f-aea8-ca7b3ca23096",
   "metadata": {},
   "outputs": [
    {
     "name": "stdout",
     "output_type": "stream",
     "text": [
      "pratham\n",
      "somya\n",
      "ajay\n"
     ]
    }
   ],
   "source": [
    "students=['pratham','somya','ajay','bhanu','hrishabh']\n",
    "for student in students:\n",
    "    if student == 'bhanu':\n",
    "        break\n",
    "    print(student)    "
   ]
  },
  {
   "cell_type": "markdown",
   "id": "8ef49d7a-0437-495b-83c1-81a57868b6da",
   "metadata": {},
   "source": [
    "It will skip stop from bhanu as at that time loop breaked\n",
    "can be use to print items till some point"
   ]
  },
  {
   "cell_type": "code",
   "execution_count": 60,
   "id": "a645cd17-7d98-4a2e-9d74-4f6e2609d0a7",
   "metadata": {},
   "outputs": [
    {
     "name": "stdout",
     "output_type": "stream",
     "text": [
      "pratham\n",
      "somya\n",
      "bhanu\n",
      "hrishabh\n"
     ]
    }
   ],
   "source": [
    "for student in students:\n",
    "    if student == 'ajay':\n",
    "        continue\n",
    "    print(student)    "
   ]
  },
  {
   "cell_type": "markdown",
   "id": "7c74d5e4-18ae-452d-a453-30baf242d2f2",
   "metadata": {},
   "source": [
    "this will skip some item in the list"
   ]
  },
  {
   "cell_type": "markdown",
   "id": "22318aa6-a6ee-4d45-bcf0-a0aae49ef095",
   "metadata": {},
   "source": [
    "# Tupples"
   ]
  },
  {
   "cell_type": "markdown",
   "id": "eefe77a5-7568-4788-b367-283aee94eefe",
   "metadata": {},
   "source": [
    "they are like list but immuatable"
   ]
  },
  {
   "cell_type": "code",
   "execution_count": 61,
   "id": "ffee316a-7ea9-45a6-8a1c-e74eafc698e3",
   "metadata": {},
   "outputs": [
    {
     "name": "stdout",
     "output_type": "stream",
     "text": [
      "2\n"
     ]
    }
   ],
   "source": [
    "marks=(98,99,100,100,20)\n",
    "print(marks.count(100))"
   ]
  },
  {
   "cell_type": "markdown",
   "id": "88da67d8-76eb-47f0-8edb-2e1ab681d85a",
   "metadata": {},
   "source": [
    "in tupple we can count the item but cant mutate"
   ]
  },
  {
   "cell_type": "code",
   "execution_count": 62,
   "id": "51b5cc05-8e7f-4f55-b2c2-674d0abcf728",
   "metadata": {},
   "outputs": [
    {
     "name": "stdout",
     "output_type": "stream",
     "text": [
      "2\n"
     ]
    }
   ],
   "source": [
    "print(marks.index(100))"
   ]
  },
  {
   "cell_type": "code",
   "execution_count": 65,
   "id": "a0c6f1e7-d280-42dd-9531-9854f871adea",
   "metadata": {},
   "outputs": [
    {
     "name": "stdout",
     "output_type": "stream",
     "text": [
      "('ram', 'shyam', 'radha')\n"
     ]
    }
   ],
   "source": [
    "name ='ram','shyam','radha'\n",
    "#by default a tupple\n",
    "print(name)"
   ]
  },
  {
   "cell_type": "markdown",
   "id": "540c306d-5dc9-49ea-87db-35210beeb20b",
   "metadata": {},
   "source": [
    "# Sets"
   ]
  },
  {
   "cell_type": "markdown",
   "id": "32486ae1-ca33-4b49-9292-6d933c331bec",
   "metadata": {},
   "source": [
    "Stores a unique value"
   ]
  },
  {
   "cell_type": "code",
   "execution_count": 63,
   "id": "3b46e0a1-bfb7-45ee-8a67-886537d6483c",
   "metadata": {},
   "outputs": [
    {
     "name": "stdout",
     "output_type": "stream",
     "text": [
      "{97, 98, 100}\n"
     ]
    }
   ],
   "source": [
    "marks ={98,97,100,100,100}\n",
    "print(marks)"
   ]
  },
  {
   "cell_type": "code",
   "execution_count": 66,
   "id": "dbbd881e-b6c2-4420-b063-a40b1a8127f3",
   "metadata": {},
   "outputs": [
    {
     "name": "stdout",
     "output_type": "stream",
     "text": [
      "97\n",
      "98\n",
      "100\n"
     ]
    }
   ],
   "source": [
    "for mark in marks:\n",
    "    print(mark)"
   ]
  },
  {
   "cell_type": "markdown",
   "id": "94d38def-0937-4c93-99a0-f99947ea0d8f",
   "metadata": {},
   "source": [
    "sets are called unordered as they dont have any indices"
   ]
  },
  {
   "cell_type": "markdown",
   "id": "9d015b01-cbae-488c-aec9-7b4a9a2d9646",
   "metadata": {},
   "source": [
    "# Dictionary"
   ]
  },
  {
   "cell_type": "markdown",
   "id": "56107b9c-3554-4f4e-b2bd-31ae6ac7eec1",
   "metadata": {},
   "source": [
    "they are like css and keys is used as index"
   ]
  },
  {
   "cell_type": "code",
   "execution_count": 70,
   "id": "3611313f-2c34-4a69-ac9c-a4f0175c8c9d",
   "metadata": {},
   "outputs": [
    {
     "name": "stdout",
     "output_type": "stream",
     "text": [
      "19\n"
     ]
    }
   ],
   "source": [
    "info={'pratham':21,'bhanu':20,'somya':19}\n",
    "print(info['somya'])"
   ]
  },
  {
   "cell_type": "code",
   "execution_count": 71,
   "id": "36672947-217c-4f78-9689-b00fc9d3ac18",
   "metadata": {},
   "outputs": [
    {
     "name": "stdout",
     "output_type": "stream",
     "text": [
      "{'pratham': 22, 'bhanu': 20, 'somya': 19}\n"
     ]
    }
   ],
   "source": [
    "info['pratham']=22\n",
    "print(info)"
   ]
  },
  {
   "cell_type": "markdown",
   "id": "d711b3e4-66c0-4d89-b2b3-6db786ff8672",
   "metadata": {},
   "source": [
    "this will add an element to the dictionary"
   ]
  },
  {
   "cell_type": "code",
   "execution_count": 72,
   "id": "572732cc-158d-495c-8311-31312d337538",
   "metadata": {},
   "outputs": [
    {
     "name": "stdout",
     "output_type": "stream",
     "text": [
      "{'pratham': 22, 'bhanu': 20, 'somya': 19, 'hrishabh': 17}\n"
     ]
    }
   ],
   "source": [
    "info['hrishabh']=17\n",
    "print(info)"
   ]
  },
  {
   "cell_type": "markdown",
   "id": "f85097a6-904b-4501-a025-809562179a8b",
   "metadata": {},
   "source": [
    "# Functions"
   ]
  },
  {
   "cell_type": "markdown",
   "id": "a5ea20ec-fa5b-43bb-8bd9-a221765ef33d",
   "metadata": {},
   "source": [
    "So far we have seen inbuild function like input , print , int() etc"
   ]
  },
  {
   "cell_type": "markdown",
   "id": "5a828907-e5bd-425f-b906-17f9383e9494",
   "metadata": {},
   "source": [
    "there are module functions also which we import from modules"
   ]
  },
  {
   "cell_type": "code",
   "execution_count": 73,
   "id": "34fa3455-2621-4159-933e-37bbac37a3df",
   "metadata": {},
   "outputs": [
    {
     "name": "stdout",
     "output_type": "stream",
     "text": [
      "['__doc__', '__loader__', '__name__', '__package__', '__spec__', 'acos', 'acosh', 'asin', 'asinh', 'atan', 'atan2', 'atanh', 'ceil', 'comb', 'copysign', 'cos', 'cosh', 'degrees', 'dist', 'e', 'erf', 'erfc', 'exp', 'expm1', 'fabs', 'factorial', 'floor', 'fmod', 'frexp', 'fsum', 'gamma', 'gcd', 'hypot', 'inf', 'isclose', 'isfinite', 'isinf', 'isnan', 'isqrt', 'lcm', 'ldexp', 'lgamma', 'log', 'log10', 'log1p', 'log2', 'modf', 'nan', 'nextafter', 'perm', 'pi', 'pow', 'prod', 'radians', 'remainder', 'sin', 'sinh', 'sqrt', 'tan', 'tanh', 'tau', 'trunc', 'ulp']\n"
     ]
    }
   ],
   "source": [
    "import math\n",
    "print(dir(math))"
   ]
  },
  {
   "cell_type": "code",
   "execution_count": 75,
   "id": "33d5f171-2627-45c8-8437-811e7c369717",
   "metadata": {},
   "outputs": [
    {
     "name": "stdout",
     "output_type": "stream",
     "text": [
      "2.0\n"
     ]
    }
   ],
   "source": [
    "from math import sqrt\n",
    "print(sqrt(4))"
   ]
  },
  {
   "cell_type": "markdown",
   "id": "6996792b-a0a4-48a3-b386-2315630b8038",
   "metadata": {},
   "source": [
    "User define function"
   ]
  },
  {
   "cell_type": "markdown",
   "id": "74bd6e67-cdaf-4095-b4e8-0e66ce4bf634",
   "metadata": {},
   "source": [
    "made by users"
   ]
  },
  {
   "cell_type": "code",
   "execution_count": 79,
   "id": "dabf5bc5-5b8d-4930-9e67-8470bba8662c",
   "metadata": {},
   "outputs": [
    {
     "name": "stdout",
     "output_type": "stream",
     "text": [
      "3\n"
     ]
    }
   ],
   "source": [
    "num1=1\n",
    "num2 =2\n",
    "def sum(num1,num2) :\n",
    "    print(num1 + num2)\n",
    "    \n",
    "sum(num1,num2)    "
   ]
  },
  {
   "cell_type": "markdown",
   "id": "16a8d29e-b095-458a-9298-264e2481d57a",
   "metadata": {},
   "source": [
    "we call a function by its name"
   ]
  },
  {
   "cell_type": "code",
   "execution_count": null,
   "id": "1cc3e84a-9384-4ce0-8e93-fe3af45b989b",
   "metadata": {},
   "outputs": [],
   "source": []
  }
 ],
 "metadata": {
  "kernelspec": {
   "display_name": "Python 3 (ipykernel)",
   "language": "python",
   "name": "python3"
  },
  "language_info": {
   "codemirror_mode": {
    "name": "ipython",
    "version": 3
   },
   "file_extension": ".py",
   "mimetype": "text/x-python",
   "name": "python",
   "nbconvert_exporter": "python",
   "pygments_lexer": "ipython3",
   "version": "3.10.8"
  }
 },
 "nbformat": 4,
 "nbformat_minor": 5
}
